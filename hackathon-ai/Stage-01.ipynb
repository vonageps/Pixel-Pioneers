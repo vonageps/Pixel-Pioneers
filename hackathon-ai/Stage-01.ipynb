{
 "cells": [
  {
   "cell_type": "code",
   "execution_count": 1,
   "metadata": {},
   "outputs": [
    {
     "name": "stdout",
     "output_type": "stream",
     "text": [
      "Requirement already satisfied: amazon-textract-textractor in ./env/lib/python3.11/site-packages (1.4.5)\n",
      "Requirement already satisfied: Pillow in ./env/lib/python3.11/site-packages (from amazon-textract-textractor) (10.1.0)\n",
      "Requirement already satisfied: XlsxWriter<3.1,>=3.0 in ./env/lib/python3.11/site-packages (from amazon-textract-textractor) (3.0.9)\n",
      "Requirement already satisfied: amazon-textract-caller<2,>=0.0.27 in ./env/lib/python3.11/site-packages (from amazon-textract-textractor) (0.2.1)\n",
      "Requirement already satisfied: amazon-textract-response-parser<2,>=0.1.45 in ./env/lib/python3.11/site-packages (from amazon-textract-textractor) (1.0.2)\n",
      "Requirement already satisfied: editdistance==0.6.2 in ./env/lib/python3.11/site-packages (from amazon-textract-textractor) (0.6.2)\n",
      "Requirement already satisfied: tabulate<0.10,>=0.9 in ./env/lib/python3.11/site-packages (from amazon-textract-textractor) (0.9.0)\n",
      "Requirement already satisfied: boto3>=1.26.35 in ./env/lib/python3.11/site-packages (from amazon-textract-caller<2,>=0.0.27->amazon-textract-textractor) (1.29.6)\n",
      "Requirement already satisfied: botocore in ./env/lib/python3.11/site-packages (from amazon-textract-caller<2,>=0.0.27->amazon-textract-textractor) (1.32.6)\n",
      "Requirement already satisfied: marshmallow<4,>=3.14 in ./env/lib/python3.11/site-packages (from amazon-textract-response-parser<2,>=0.1.45->amazon-textract-textractor) (3.20.1)\n",
      "Requirement already satisfied: jmespath<2.0.0,>=0.7.1 in ./env/lib/python3.11/site-packages (from boto3>=1.26.35->amazon-textract-caller<2,>=0.0.27->amazon-textract-textractor) (1.0.1)\n",
      "Requirement already satisfied: s3transfer<0.8.0,>=0.7.0 in ./env/lib/python3.11/site-packages (from boto3>=1.26.35->amazon-textract-caller<2,>=0.0.27->amazon-textract-textractor) (0.7.0)\n",
      "Requirement already satisfied: python-dateutil<3.0.0,>=2.1 in ./env/lib/python3.11/site-packages (from botocore->amazon-textract-caller<2,>=0.0.27->amazon-textract-textractor) (2.8.2)\n",
      "Requirement already satisfied: urllib3<2.1,>=1.25.4 in ./env/lib/python3.11/site-packages (from botocore->amazon-textract-caller<2,>=0.0.27->amazon-textract-textractor) (2.0.7)\n",
      "Requirement already satisfied: packaging>=17.0 in ./env/lib/python3.11/site-packages (from marshmallow<4,>=3.14->amazon-textract-response-parser<2,>=0.1.45->amazon-textract-textractor) (23.2)\n",
      "Requirement already satisfied: six>=1.5 in ./env/lib/python3.11/site-packages (from python-dateutil<3.0.0,>=2.1->botocore->amazon-textract-caller<2,>=0.0.27->amazon-textract-textractor) (1.12.0)\n"
     ]
    }
   ],
   "source": [
    "!pip install amazon-textract-textractor"
   ]
  },
  {
   "cell_type": "code",
   "execution_count": 1,
   "metadata": {},
   "outputs": [],
   "source": [
    "from textractor import Textractor\n",
    "from textractor.data.constants import TextractFeatures"
   ]
  },
  {
   "cell_type": "code",
   "execution_count": 2,
   "metadata": {},
   "outputs": [],
   "source": [
    "import boto3\n",
    "\n",
    "session = boto3.Session(\n",
    "    aws_access_key_id=\"",\n",
    "    aws_secret_access_key=\""\n",
    ")"
   ]
  },
  {
   "cell_type": "code",
   "execution_count": 101,
   "metadata": {},
   "outputs": [],
   "source": [
    "s3_client = session.client('s3', region_name='us-east-1')\n",
    "\n",
    "# Specify the S3 bucket and file name for temporary storage\n",
    "bucket_name = 'vonage-hackathon'\n",
    "document_name = 'Docs/images (2).jpeg'\n",
    "\n",
    "# Upload the local PDF file to S3\n",
    "s3_client.upload_file(document_name, bucket_name, document_name)"
   ]
  },
  {
   "cell_type": "code",
   "execution_count": 102,
   "metadata": {},
   "outputs": [],
   "source": [
    "extractor = Textractor(region_name='us-east-1')\n",
    "document = extractor.start_document_analysis(\n",
    "    f\"s3://{bucket_name}/{document_name}\",\n",
    "    features = [ TextractFeatures.TABLES, TextractFeatures.SIGNATURES, TextractFeatures.LAYOUT, TextractFeatures.FORMS],\n",
    ")"
   ]
  },
  {
   "cell_type": "code",
   "execution_count": 103,
   "metadata": {},
   "outputs": [
    {
     "name": "stdout",
     "output_type": "stream",
     "text": [
      "-\n",
      "BLOOD BANK PARAS HMR HOSPITAL\n",
      "PARAS\n",
      "-\n",
      "®\n",
      "<<<\n",
      "- . Book\n",
      "\n",
      "- description -\n",
      "WG\n",
      "-\n",
      "-\n",
      "eight\n",
      "200\n",
      "teach MORE -\n",
      "- -\n",
      "-\n",
      "-\n",
      "The\n",
      "HELL\n",
      "tooo - DE XLOKEIN School\n",
      "-\n",
      "CANCE or\n",
      "- . -\n",
      "- Energyment -\n",
      "- . - - -\n",
      "Medical\n",
      "-\n",
      "-\n",
      "-\n",
      "-\n",
      "-\n",
      "-\n",
      "-\n",
      "-\n",
      "-\n",
      "-\n",
      "-\n",
      "-\n",
      "-\n",
      "\n"
     ]
    }
   ],
   "source": [
    "value=\"\"\n",
    "\n",
    "for page in document.lines:\n",
    "    value += str(page) + \"\\n\"\n",
    "\n",
    "with open(\"test.txt\",\"w+\") as f:\n",
    "    f.write(value)\n",
    "print(value)"
   ]
  },
  {
   "cell_type": "code",
   "execution_count": 104,
   "metadata": {},
   "outputs": [
    {
     "name": "stdout",
     "output_type": "stream",
     "text": [
      "This text does not contain any information about a person such as name, age, gender, disease, or allergies to a certain medicine.\n"
     ]
    }
   ],
   "source": [
    "import openai\n",
    "\n",
    "# Set your OpenAI API key\n",
    "openai.api_key = "",
    "\n",
    "def extract_information_from_text(prompt):\n",
    "    # Use the GPT-3 completions API to generate responses based on the prompt\n",
    "    response = openai.Completion.create(\n",
    "        engine=\"text-davinci-003\",\n",
    "        prompt=prompt,\n",
    "        temperature=0,\n",
    "        max_tokens=150\n",
    "    )\n",
    "\n",
    "    return response.choices[0].text.strip()\n",
    "\n",
    "\n",
    "prompt = f\"Extract important information such as name, age, gender, diseas, any allergies to a certain medicine etc. from the following text:\\n{value}\"\n",
    "\n",
    "extracted_information = extract_information_from_text(prompt)\n",
    "print(extracted_information)"
   ]
  },
  {
   "cell_type": "code",
   "execution_count": null,
   "metadata": {},
   "outputs": [],
   "source": []
  }
 ],
 "metadata": {
  "kernelspec": {
   "display_name": "Python 3",
   "language": "python",
   "name": "python3"
  },
  "language_info": {
   "codemirror_mode": {
    "name": "ipython",
    "version": 3
   },
   "file_extension": ".py",
   "mimetype": "text/x-python",
   "name": "python",
   "nbconvert_exporter": "python",
   "pygments_lexer": "ipython3",
   "version": "3.11.6"
  }
 },
 "nbformat": 4,
 "nbformat_minor": 2
}
