{
 "cells": [
  {
   "cell_type": "code",
   "execution_count": 1,
   "metadata": {},
   "outputs": [],
   "source": [
    "ApiKey = \"\"\n",
    "ApiSecret = \"\""
   ]
  },
  {
   "cell_type": "code",
   "execution_count": 2,
   "metadata": {},
   "outputs": [],
   "source": [
    "import boto3\n",
    "\n",
    "session = boto3.Session(\n",
    "    aws_access_key_id=\"\",\n",
    "    aws_secret_access_key=\"/s\"\n",
    ")"
   ]
  },
  {
   "cell_type": "code",
   "execution_count": null,
   "metadata": {},
   "outputs": [],
   "source": [
    "s3_client = session.client('s3', region_name='us-east-1')\n",
    "\n",
    "# Specify the S3 bucket and file name for temporary storage\n",
    "bucket_name = 'vonage-hackathon'\n",
    "document_name = 'Docs/images (2).jpeg'\n",
    "\n",
    "# Upload the local PDF file to S3\n",
    "s3_client.upload_file(document_name, bucket_name, document_name)"
   ]
  },
  {
   "cell_type": "code",
   "execution_count": 8,
   "metadata": {},
   "outputs": [
    {
     "ename": "NameError",
     "evalue": "name 'base64' is not defined",
     "output_type": "error",
     "traceback": [
      "\u001b[0;31m---------------------------------------------------------------------------\u001b[0m",
      "\u001b[0;31mNameError\u001b[0m                                 Traceback (most recent call last)",
      "\u001b[1;32m/home/dhruv.sharma/Tele_Health/Stage-02.ipynb Cell 4\u001b[0m line \u001b[0;36m3\n\u001b[1;32m     <a href='vscode-notebook-cell:/home/dhruv.sharma/Tele_Health/Stage-02.ipynb#X13sZmlsZQ%3D%3D?line=30'>31</a>\u001b[0m recording_url \u001b[39m=\u001b[39m \u001b[39m'\u001b[39m\u001b[39mURL_OF_YOUR_RECORDING\u001b[39m\u001b[39m'\u001b[39m\n\u001b[1;32m     <a href='vscode-notebook-cell:/home/dhruv.sharma/Tele_Health/Stage-02.ipynb#X13sZmlsZQ%3D%3D?line=31'>32</a>\u001b[0m destination_path \u001b[39m=\u001b[39m \u001b[39m'\u001b[39m\u001b[39mpath/to/save/recording.mp4\u001b[39m\u001b[39m'\u001b[39m\n\u001b[0;32m---> <a href='vscode-notebook-cell:/home/dhruv.sharma/Tele_Health/Stage-02.ipynb#X13sZmlsZQ%3D%3D?line=33'>34</a>\u001b[0m download_recording(api_key, api_secret, recording_url, destination_path)\n",
      "\u001b[1;32m/home/dhruv.sharma/Tele_Health/Stage-02.ipynb Cell 4\u001b[0m line \u001b[0;36m1\n\u001b[1;32m      <a href='vscode-notebook-cell:/home/dhruv.sharma/Tele_Health/Stage-02.ipynb#X13sZmlsZQ%3D%3D?line=3'>4</a>\u001b[0m \u001b[39m\u001b[39m\u001b[39m\"\"\"\u001b[39;00m\n\u001b[1;32m      <a href='vscode-notebook-cell:/home/dhruv.sharma/Tele_Health/Stage-02.ipynb#X13sZmlsZQ%3D%3D?line=4'>5</a>\u001b[0m \u001b[39mDownload a Vonage Video API recording.\u001b[39;00m\n\u001b[1;32m      <a href='vscode-notebook-cell:/home/dhruv.sharma/Tele_Health/Stage-02.ipynb#X13sZmlsZQ%3D%3D?line=5'>6</a>\u001b[0m \n\u001b[0;32m   (...)\u001b[0m\n\u001b[1;32m     <a href='vscode-notebook-cell:/home/dhruv.sharma/Tele_Health/Stage-02.ipynb#X13sZmlsZQ%3D%3D?line=9'>10</a>\u001b[0m \u001b[39m:param destination_path: Path where the recording will be saved.\u001b[39;00m\n\u001b[1;32m     <a href='vscode-notebook-cell:/home/dhruv.sharma/Tele_Health/Stage-02.ipynb#X13sZmlsZQ%3D%3D?line=10'>11</a>\u001b[0m \u001b[39m\"\"\"\u001b[39;00m\n\u001b[1;32m     <a href='vscode-notebook-cell:/home/dhruv.sharma/Tele_Health/Stage-02.ipynb#X13sZmlsZQ%3D%3D?line=11'>12</a>\u001b[0m \u001b[39m# Construct the authentication header\u001b[39;00m\n\u001b[0;32m---> <a href='vscode-notebook-cell:/home/dhruv.sharma/Tele_Health/Stage-02.ipynb#X13sZmlsZQ%3D%3D?line=12'>13</a>\u001b[0m auth_header \u001b[39m=\u001b[39m {\u001b[39m'\u001b[39m\u001b[39mAuthorization\u001b[39m\u001b[39m'\u001b[39m: \u001b[39m'\u001b[39m\u001b[39mBasic \u001b[39m\u001b[39m'\u001b[39m \u001b[39m+\u001b[39m base64\u001b[39m.\u001b[39mb64encode((api_key \u001b[39m+\u001b[39m \u001b[39m'\u001b[39m\u001b[39m:\u001b[39m\u001b[39m'\u001b[39m \u001b[39m+\u001b[39m api_secret)\u001b[39m.\u001b[39mencode())\u001b[39m.\u001b[39mdecode()}\n\u001b[1;32m     <a href='vscode-notebook-cell:/home/dhruv.sharma/Tele_Health/Stage-02.ipynb#X13sZmlsZQ%3D%3D?line=14'>15</a>\u001b[0m \u001b[39m# Make a request to download the recording\u001b[39;00m\n\u001b[1;32m     <a href='vscode-notebook-cell:/home/dhruv.sharma/Tele_Health/Stage-02.ipynb#X13sZmlsZQ%3D%3D?line=15'>16</a>\u001b[0m response \u001b[39m=\u001b[39m requests\u001b[39m.\u001b[39mget(recording_url, headers\u001b[39m=\u001b[39mauth_header, stream\u001b[39m=\u001b[39m\u001b[39mTrue\u001b[39;00m)\n",
      "\u001b[0;31mNameError\u001b[0m: name 'base64' is not defined"
     ]
    }
   ],
   "source": [
    "import requests\n",
    "import base64\n",
    "\n",
    "def download_recording(api_key, api_secret, recording_url, destination_path):\n",
    "    \"\"\"\n",
    "    Download a Vonage Video API recording.\n",
    "\n",
    "    :param api_key: Your Vonage Video API key.\n",
    "    :param api_secret: Your Vonage Video API secret.\n",
    "    :param recording_url: URL of the recording to download.\n",
    "    :param destination_path: Path where the recording will be saved.\n",
    "    \"\"\"\n",
    "    # Construct the authentication header\n",
    "    auth_header = {'Authorization': 'Basic ' + base64.b64encode((api_key + ':' + api_secret).encode()).decode()}\n",
    "\n",
    "    # Make a request to download the recording\n",
    "    response = requests.get(recording_url, headers=auth_header, stream=True)\n",
    "\n",
    "    # Check if the request was successful (HTTP status code 200)\n",
    "    if response.status_code == 200:\n",
    "        # Save the recording to the specified destination\n",
    "        with open(destination_path, 'wb') as file:\n",
    "            for chunk in response.iter_content(chunk_size=128):\n",
    "                file.write(chunk)\n",
    "        print(f\"Recording downloaded successfully to {destination_path}\")\n",
    "    else:\n",
    "        print(f\"Failed to download recording. HTTP status code: {response.status_code}\")\n",
    "\n",
    "# Example usage\n",
    "api_key = 'YOUR_API_KEY'\n",
    "api_secret = 'YOUR_API_SECRET'\n",
    "recording_url = 'URL_OF_YOUR_RECORDING'\n",
    "destination_path = 'path/to/save/recording.mp4'\n",
    "\n",
    "download_recording(api_key, api_secret, recording_url, destination_path)"
   ]
  },
  {
   "cell_type": "code",
   "execution_count": 16,
   "metadata": {},
   "outputs": [
    {
     "name": "stdout",
     "output_type": "stream",
     "text": [
      "Transcription Result:\n",
      "Good evening doctor. Good evening. Please sit down. I've got a stomach ache doctor. I see. What do you feel? I have got sharp pain and heartburn. How long have you had this pain in vicinity for two days? Now? It does not go away. I eat and after every meal, my stomach hurts at night. The pain seems to double up. Is the pain continuous or does it come and go? Occasionally it comes and goes, it hurts me the most after every meal. Other times, the pain isn't that severe. Is there any kind of food that affects you greasy ones and food which has got coconut milk in it? Ok. And we're in the abdomen. Does it hurt? Does the pain travel to your chest or shoulder? It hurts in the middle? Sometimes the pain travels across my abdomen. You said you have heartburn besides the pain too? Right?\n"
     ]
    }
   ],
   "source": [
    "import time\n",
    "import requests\n",
    "\n",
    "def transcribe_audio(video_file_path):\n",
    "    aws_region = 'us-east-1'\n",
    "\n",
    "    # Set up the Amazon Transcribe client\n",
    "    transcribe_client = session.client('transcribe', region_name=aws_region)\n",
    "\n",
    "    # Start a transcription job\n",
    "    job_name = f'transcription-job-{int(time.time())}'\n",
    "    job_uri = f's3://{bucket_name}/{video_file_path}'  # Update with your S3 bucket and video file path\n",
    "    transcribe_client.start_transcription_job(\n",
    "        TranscriptionJobName=job_name,\n",
    "        Media={'MediaFileUri': job_uri},\n",
    "        MediaFormat='mp4',\n",
    "        LanguageCode='en-US'\n",
    "    )\n",
    "\n",
    "    # Wait for the transcription job to complete\n",
    "    while True:\n",
    "        response = transcribe_client.get_transcription_job(TranscriptionJobName=job_name)\n",
    "        if response['TranscriptionJob']['TranscriptionJobStatus'] in ['COMPLETED', 'FAILED']:\n",
    "            break\n",
    "        time.sleep(5)\n",
    "\n",
    "    # Get the transcription results\n",
    "    if response['TranscriptionJob']['TranscriptionJobStatus'] == 'COMPLETED':\n",
    "        transcript_uri = response['TranscriptionJob']['Transcript']['TranscriptFileUri']\n",
    "        transcript_response = requests.get(transcript_uri)\n",
    "        transcript_json = transcript_response.json()\n",
    "        transcription_text = transcript_json['results']['transcripts'][0]['transcript']\n",
    "        return transcription_text\n",
    "    else:\n",
    "        raise Exception(f\"Transcription job failed: {response['TranscriptionJob']['FailureReason']}\")\n",
    "\n",
    "# Example usage\n",
    "video_file_path = 'Vids/Stomach Pain __ Conversation between Doctor and Patient __ Easy English Conversation(720P_HD).mp4'\n",
    "transcription_result = transcribe_audio(video_file_path)\n",
    "print(\"Transcription Result:\")\n",
    "print(transcription_result)"
   ]
  },
  {
   "cell_type": "code",
   "execution_count": 18,
   "metadata": {},
   "outputs": [
    {
     "name": "stdout",
     "output_type": "stream",
     "text": [
      "Yes, I have heartburn too.\n",
      "\n",
      "Name: Patient\n",
      "Age: Unknown\n",
      "Gender: Unknown\n",
      "Disease: Stomach ache\n",
      "Allergies: Unknown\n",
      "Tests: Unknown\n"
     ]
    }
   ],
   "source": [
    "import openai\n",
    "\n",
    "# Set your OpenAI API key\n",
    "openai.api_key = ''\n",
    "\n",
    "def extract_information_from_text(prompt):\n",
    "    # Use the GPT-3 completions API to generate responses based on the prompt\n",
    "    response = openai.Completion.create(\n",
    "        engine=\"text-davinci-003\",\n",
    "        prompt=prompt,\n",
    "        temperature=0,\n",
    "        max_tokens=150\n",
    "    )\n",
    "\n",
    "    return response.choices[0].text.strip()\n",
    "\n",
    "\n",
    "prompt = f\"You are given a conversation between a doctor and a patient, go through it and extract important infromation such asas name, age, gender, diseas, any allergies to a certain medicine, any good to have tests, etc. from the following text:\\n{transcription_result}\"\n",
    "\n",
    "extracted_information = extract_information_from_text(prompt)\n",
    "print(extracted_information)"
   ]
  },
  {
   "cell_type": "code",
   "execution_count": null,
   "metadata": {},
   "outputs": [],
   "source": []
  }
 ],
 "metadata": {
  "kernelspec": {
   "display_name": "Python 3",
   "language": "python",
   "name": "python3"
  },
  "language_info": {
   "codemirror_mode": {
    "name": "ipython",
    "version": 3
   },
   "file_extension": ".py",
   "mimetype": "text/x-python",
   "name": "python",
   "nbconvert_exporter": "python",
   "pygments_lexer": "ipython3",
   "version": "3.11.6"
  }
 },
 "nbformat": 4,
 "nbformat_minor": 2
}
